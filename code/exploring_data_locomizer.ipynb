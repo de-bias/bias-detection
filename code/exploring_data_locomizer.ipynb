{
 "cells": [
  {
   "cell_type": "code",
   "execution_count": 1,
   "id": "39d1aa91",
   "metadata": {},
   "outputs": [],
   "source": [
    "import matplotlib.pyplot as plt\n",
    "import numpy as np\n",
    "import math\n",
    "import pandas as pd\n",
    "import statsmodels.api as sm\n",
    "from scipy.special import gamma, loggamma, factorial\n",
    "import scipy.stats\n",
    "from scipy.interpolate import interp1d\n",
    "from matplotlib.ticker import AutoMinorLocator \n",
    "from matplotlib import rc, font_manager\n",
    "from matplotlib.lines import Line2D\n",
    "from matplotlib import colors as mcolors\n",
    "from mycolorpy import colorlist as mcp\n",
    "from matplotlib import legend_handler\n",
    "from matplotlib_scalebar.scalebar import ScaleBar\n",
    "from mpl_toolkits.axes_grid1 import make_axes_locatable, axes_size\n",
    "import collections\n",
    "import matplotlib\n",
    "import shapely.geometry\n",
    "from shapely.geometry import Point\n",
    "import shapely.ops \n",
    "from geopy.geocoders import Nominatim\n",
    "import geopandas as gpd\n",
    "import mapclassify\n",
    "import jenkspy\n",
    "import random\n",
    "import contextily as cx\n",
    "import os\n",
    "import rioxarray as rx\n",
    "import pyreadr\n",
    "from sklearn.preprocessing import StandardScaler\n",
    "from sklearn.cluster import KMeans\n",
    "from sklearn import metrics\n",
    "from pysal.lib import weights\n",
    "from libpysal.io import open as psopen\n",
    "# import plots\n",
    "import seaborn as sns\n",
    "from datetime import datetime, timedelta\n",
    "import jenkspy\n",
    "import rarfile\n",
    "import patoolib"
   ]
  },
  {
   "cell_type": "code",
   "execution_count": 2,
   "id": "414091c6",
   "metadata": {},
   "outputs": [],
   "source": [
    "wd = '/Volumes/rdm04/DEBIAS/data/inputs'\n"
   ]
  },
  {
   "cell_type": "code",
   "execution_count": 3,
   "id": "f719e77c",
   "metadata": {},
   "outputs": [
    {
     "name": "stderr",
     "output_type": "stream",
     "text": [
      "INFO patool: Extracting /Volumes/rdm04/DEBIAS/data/inputs/locomizer/LOCOMIZER SAMPLE DATA_NOV_2024/TOP 100 UK CITIES_H3_lvl10_FOOTFALL/Manchester_H3_lvl10_2024-09-01_UK.rar ...\n"
     ]
    },
    {
     "ename": "PatoolError",
     "evalue": "could not find an executable program to extract format rar; candidates are rar,unrar,7z,7zz,7zzs,unar",
     "output_type": "error",
     "traceback": [
      "\u001b[0;31m---------------------------------------------------------------------------\u001b[0m",
      "\u001b[0;31mPatoolError\u001b[0m                               Traceback (most recent call last)",
      "Cell \u001b[0;32mIn[3], line 2\u001b[0m\n\u001b[1;32m      1\u001b[0m path \u001b[38;5;241m=\u001b[39m wd \u001b[38;5;241m+\u001b[39m \u001b[38;5;124m'\u001b[39m\u001b[38;5;124m/locomizer/LOCOMIZER SAMPLE DATA_NOV_2024/TOP 100 UK CITIES_H3_lvl10_FOOTFALL\u001b[39m\u001b[38;5;124m'\u001b[39m\n\u001b[0;32m----> 2\u001b[0m patoolib\u001b[38;5;241m.\u001b[39mextract_archive(path \u001b[38;5;241m+\u001b[39m \u001b[38;5;124m\"\u001b[39m\u001b[38;5;124m/Manchester_H3_lvl10_2024-09-01_UK.rar\u001b[39m\u001b[38;5;124m\"\u001b[39m, outdir\u001b[38;5;241m=\u001b[39mpath)\n",
      "File \u001b[0;32m~/anaconda3/envs/geo-env-new/lib/python3.11/site-packages/patoolib/__init__.py:1143\u001b[0m, in \u001b[0;36mextract_archive\u001b[0;34m(archive, verbosity, outdir, program, interactive, password)\u001b[0m\n\u001b[1;32m   1141\u001b[0m \u001b[38;5;28;01mif\u001b[39;00m verbosity \u001b[38;5;241m>\u001b[39m\u001b[38;5;241m=\u001b[39m \u001b[38;5;241m0\u001b[39m:\n\u001b[1;32m   1142\u001b[0m     log\u001b[38;5;241m.\u001b[39mlog_info(\u001b[38;5;124mf\u001b[39m\u001b[38;5;124m\"\u001b[39m\u001b[38;5;124mExtracting \u001b[39m\u001b[38;5;132;01m{\u001b[39;00marchive\u001b[38;5;132;01m}\u001b[39;00m\u001b[38;5;124m ...\u001b[39m\u001b[38;5;124m\"\u001b[39m)\n\u001b[0;32m-> 1143\u001b[0m \u001b[38;5;28;01mreturn\u001b[39;00m _extract_archive(\n\u001b[1;32m   1144\u001b[0m     archive,\n\u001b[1;32m   1145\u001b[0m     verbosity\u001b[38;5;241m=\u001b[39mverbosity,\n\u001b[1;32m   1146\u001b[0m     interactive\u001b[38;5;241m=\u001b[39minteractive,\n\u001b[1;32m   1147\u001b[0m     outdir\u001b[38;5;241m=\u001b[39moutdir,\n\u001b[1;32m   1148\u001b[0m     program\u001b[38;5;241m=\u001b[39mprogram,\n\u001b[1;32m   1149\u001b[0m     password\u001b[38;5;241m=\u001b[39mpassword,\n\u001b[1;32m   1150\u001b[0m )\n",
      "File \u001b[0;32m~/anaconda3/envs/geo-env-new/lib/python3.11/site-packages/patoolib/__init__.py:823\u001b[0m, in \u001b[0;36m_extract_archive\u001b[0;34m(archive, verbosity, interactive, outdir, program, format, compression, password)\u001b[0m\n\u001b[1;32m    821\u001b[0m     \u001b[38;5;28mformat\u001b[39m, compression \u001b[38;5;241m=\u001b[39m get_archive_format(archive, verbosity\u001b[38;5;241m=\u001b[39mverbosity)\n\u001b[1;32m    822\u001b[0m check_archive_format(\u001b[38;5;28mformat\u001b[39m, compression)\n\u001b[0;32m--> 823\u001b[0m program \u001b[38;5;241m=\u001b[39m find_archive_program(\n\u001b[1;32m    824\u001b[0m     \u001b[38;5;28mformat\u001b[39m,\n\u001b[1;32m    825\u001b[0m     \u001b[38;5;124m'\u001b[39m\u001b[38;5;124mextract\u001b[39m\u001b[38;5;124m'\u001b[39m,\n\u001b[1;32m    826\u001b[0m     program\u001b[38;5;241m=\u001b[39mprogram,\n\u001b[1;32m    827\u001b[0m     password\u001b[38;5;241m=\u001b[39mpassword,\n\u001b[1;32m    828\u001b[0m     compression\u001b[38;5;241m=\u001b[39mcompression,\n\u001b[1;32m    829\u001b[0m     verbosity\u001b[38;5;241m=\u001b[39mverbosity,\n\u001b[1;32m    830\u001b[0m )\n\u001b[1;32m    831\u001b[0m get_archive_cmdlist \u001b[38;5;241m=\u001b[39m get_archive_cmdlist_func(program, \u001b[38;5;124m'\u001b[39m\u001b[38;5;124mextract\u001b[39m\u001b[38;5;124m'\u001b[39m, \u001b[38;5;28mformat\u001b[39m)\n\u001b[1;32m    832\u001b[0m \u001b[38;5;28;01mif\u001b[39;00m outdir \u001b[38;5;129;01mis\u001b[39;00m \u001b[38;5;28;01mNone\u001b[39;00m:\n",
      "File \u001b[0;32m~/anaconda3/envs/geo-env-new/lib/python3.11/site-packages/patoolib/__init__.py:642\u001b[0m, in \u001b[0;36mfind_archive_program\u001b[0;34m(format, command, program, password, compression, verbosity)\u001b[0m\n\u001b[1;32m    640\u001b[0m     msg \u001b[38;5;241m+\u001b[39m\u001b[38;5;241m=\u001b[39m \u001b[38;5;124mf\u001b[39m\u001b[38;5;124m\"\u001b[39m\u001b[38;5;124m and compression \u001b[39m\u001b[38;5;132;01m{\u001b[39;00mcompression\u001b[38;5;132;01m}\u001b[39;00m\u001b[38;5;124m\"\u001b[39m\n\u001b[1;32m    641\u001b[0m msg \u001b[38;5;241m+\u001b[39m\u001b[38;5;241m=\u001b[39m \u001b[38;5;124m\"\u001b[39m\u001b[38;5;124m; candidates are \u001b[39m\u001b[38;5;124m\"\u001b[39m \u001b[38;5;241m+\u001b[39m \u001b[38;5;124m\"\u001b[39m\u001b[38;5;124m,\u001b[39m\u001b[38;5;124m\"\u001b[39m\u001b[38;5;241m.\u001b[39mjoin(programs)\n\u001b[0;32m--> 642\u001b[0m \u001b[38;5;28;01mraise\u001b[39;00m util\u001b[38;5;241m.\u001b[39mPatoolError(msg)\n",
      "\u001b[0;31mPatoolError\u001b[0m: could not find an executable program to extract format rar; candidates are rar,unrar,7z,7zz,7zzs,unar"
     ]
    }
   ],
   "source": [
    "path = wd + '/locomizer/LOCOMIZER SAMPLE DATA_NOV_2024/TOP 100 UK CITIES_H3_lvl10_FOOTFALL'\n",
    "patoolib.extract_archive(path + \"/Manchester_H3_lvl10_2024-09-01_UK.rar\", outdir=path)"
   ]
  },
  {
   "cell_type": "code",
   "execution_count": null,
   "id": "4f74a0f3",
   "metadata": {},
   "outputs": [],
   "source": [
    "rf = rarfile.RarFile(wd + \"/locomizer/LOCOMIZER SAMPLE DATA_NOV_2024/TOP 100 UK CITIES_H3_lvl10_FOOTFALL/Manchester_H3_lvl10_2024-09-01_UK.rar\")\n",
    "for f in rf.infolist():\n",
    "    print(f.filename, f.file_size)\n",
    "    if f.filename == \"README\":\n",
    "        print(rf.read(f))"
   ]
  },
  {
   "cell_type": "code",
   "execution_count": null,
   "id": "1cbc7022",
   "metadata": {},
   "outputs": [],
   "source": [
    "rf"
   ]
  },
  {
   "cell_type": "code",
   "execution_count": null,
   "id": "89904f3b",
   "metadata": {},
   "outputs": [],
   "source": []
  }
 ],
 "metadata": {
  "kernelspec": {
   "display_name": "Python 3 (ipykernel)",
   "language": "python",
   "name": "python3"
  },
  "language_info": {
   "codemirror_mode": {
    "name": "ipython",
    "version": 3
   },
   "file_extension": ".py",
   "mimetype": "text/x-python",
   "name": "python",
   "nbconvert_exporter": "python",
   "pygments_lexer": "ipython3",
   "version": "3.11.5"
  }
 },
 "nbformat": 4,
 "nbformat_minor": 5
}
